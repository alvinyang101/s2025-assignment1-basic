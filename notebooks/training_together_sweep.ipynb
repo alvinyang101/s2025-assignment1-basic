{
 "cells": [
  {
   "cell_type": "markdown",
   "metadata": {},
   "source": [
    "# Training Together "
   ]
  },
  {
   "cell_type": "code",
   "execution_count": 1,
   "metadata": {},
   "outputs": [],
   "source": [
    "%load_ext autoreload\n",
    "%autoreload 2\n",
    "from functools import partial\n",
    "from pathlib import Path\n",
    "import pickle\n",
    "\n",
    "import torch\n",
    "import torch.nn as nn\n",
    "import torch.optim as optim\n",
    "import numpy as np\n",
    "import wandb\n",
    "import os\n",
    "\n",
    "from ece496b_basics.adapters import *\n",
    "from ece496b_basics.model import CustomModule\n",
    "\n",
    "DATA_PATH = Path(\"../data\").resolve()\n",
    "OUTPUT_PATH = Path(\"outputs\").resolve()\n",
    "ts_tokenized_path = OUTPUT_PATH / \"tinystories_encoded.npy\"\n",
    "\n",
    "device = \"cuda\""
   ]
  },
  {
   "cell_type": "markdown",
   "metadata": {},
   "source": [
    "### Parameter Sweep"
   ]
  },
  {
   "cell_type": "code",
   "execution_count": 2,
   "metadata": {},
   "outputs": [
    {
     "name": "stdout",
     "output_type": "stream",
     "text": [
      "Create sweep with ID: 56lr8wuy\n",
      "Sweep URL: https://wandb.ai/alvinyang101-university-of-hawaii-at-manoa/training_together/sweeps/56lr8wuy\n"
     ]
    }
   ],
   "source": [
    "# Initialize Weights & Biases\n",
    "config = {\n",
    "    \"vocab_size\": 10_000,\n",
    "    \"context_length\": 128,\n",
    "    \"d_model\": 512,\n",
    "    \"num_layers\": 4,\n",
    "    \"num_heads\": 16,\n",
    "    \"d_ff\": 2048,\n",
    "    \"attn_pdrop\": 0.1,\n",
    "    \"residual_pdrop\": 0.1,\n",
    "    \"batch_size\": 128,\n",
    "    \"num_steps\":  2500,\n",
    "    \"epochs\": 1,\n",
    "    \"epochs_per_checkpoint\": 1,\n",
    "}\n",
    "sweep_config = {\n",
    "    \"method\": \"grid\",\n",
    "    \"parameters\": {\n",
    "        \"learning_rate\": {\n",
    "            \"values\": [1e-5, 1e-4, 1e-3, 1e-2, 1e-1, 1, 1e1, 1e2, 1e3]\n",
    "        },\n",
    "    }\n",
    "}\n",
    "sweep_id = wandb.sweep(sweep_config, project=\"training_together\")"
   ]
  },
  {
   "cell_type": "markdown",
   "metadata": {},
   "source": [
    "### Sweep Learning Rate"
   ]
  },
  {
   "cell_type": "code",
   "execution_count": 3,
   "metadata": {},
   "outputs": [],
   "source": [
    "# Training Loop\n",
    "def train(config):\n",
    "    run = wandb.init(config=config)\n",
    "    config = wandb.config\n",
    "    run.name = f\"lr_{config.learning_rate}\"\n",
    "    dataset = np.load(ts_tokenized_path, mmap_mode=\"r\")\n",
    "    model = CustomModule(\n",
    "        vocab_size=config.vocab_size,\n",
    "        context_length=config.context_length,\n",
    "        d_model=config.d_model,\n",
    "        num_layers=config.num_layers,\n",
    "        num_heads=config.num_heads,\n",
    "        d_ff=config.d_ff,\n",
    "        device=device,\n",
    "    )\n",
    "    optimizer = get_adamw_cls()(model.parameters(), lr=config.learning_rate)\n",
    "    # scheduler = torch.optim.lr_scheduler.LambdaLR(\n",
    "    # optimizer, lr_lambda=lambda it: run_get_lr_cosine_schedule(\n",
    "    #     it, learning_rate, learning_rate * 0.1, 1000, 10000)\n",
    "    # )\n",
    "    total_loss = 0\n",
    "    for step in range(config.num_steps):\n",
    "        # Get batch\n",
    "        inputs, targets = run_get_batch(dataset, config.batch_size, config.context_length, device)\n",
    "        # Forward pass\n",
    "        outputs = model(inputs)\n",
    "        \n",
    "        # Compute loss\n",
    "        loss = run_cross_entropy(outputs.view(-1, config.vocab_size), targets.view(-1))\n",
    "        # Backpropagation\n",
    "        optimizer.zero_grad()\n",
    "        loss.backward()\n",
    "        run_gradient_clipping(model.parameters(), 1.0)\n",
    "        optimizer.step()\n",
    "\n",
    "        total_loss += loss.item()\n",
    "\n",
    "        # Log to wandb\n",
    "        wandb.log({f\"Loss:\": loss.item(), \"learning_rate\": config.learning_rate})\n",
    "\n",
    "    # Finish wandb run\n",
    "    wandb.finish()"
   ]
  },
  {
   "cell_type": "code",
   "execution_count": 4,
   "metadata": {},
   "outputs": [
    {
     "name": "stderr",
     "output_type": "stream",
     "text": [
      "\u001b[34m\u001b[1mwandb\u001b[0m: Agent Starting Run: 0h3as4z0 with config:\n",
      "\u001b[34m\u001b[1mwandb\u001b[0m: \tlearning_rate: 1e-05\n",
      "\u001b[34m\u001b[1mwandb\u001b[0m: Currently logged in as: \u001b[33malvinyang101\u001b[0m (\u001b[33malvinyang101-university-of-hawaii-at-manoa\u001b[0m) to \u001b[32mhttps://api.wandb.ai\u001b[0m. Use \u001b[1m`wandb login --relogin`\u001b[0m to force relogin\n",
      "\u001b[34m\u001b[1mwandb\u001b[0m: Using wandb-core as the SDK backend.  Please refer to https://wandb.me/wandb-core for more information.\n"
     ]
    },
    {
     "data": {
      "text/html": [
       "Tracking run with wandb version 0.19.6"
      ],
      "text/plain": [
       "<IPython.core.display.HTML object>"
      ]
     },
     "metadata": {},
     "output_type": "display_data"
    },
    {
     "data": {
      "text/html": [
       "Run data is saved locally in <code>/home/alvin/homework/s2025-assignment1-basics/notebooks/wandb/run-20250218_111141-0h3as4z0</code>"
      ],
      "text/plain": [
       "<IPython.core.display.HTML object>"
      ]
     },
     "metadata": {},
     "output_type": "display_data"
    },
    {
     "data": {
      "text/html": [
       "Syncing run <strong><a href='https://wandb.ai/alvinyang101-university-of-hawaii-at-manoa/training_together/runs/0h3as4z0' target=\"_blank\">deft-sweep-1</a></strong> to <a href='https://wandb.ai/alvinyang101-university-of-hawaii-at-manoa/training_together' target=\"_blank\">Weights & Biases</a> (<a href='https://wandb.me/developer-guide' target=\"_blank\">docs</a>)<br>Sweep page: <a href='https://wandb.ai/alvinyang101-university-of-hawaii-at-manoa/training_together/sweeps/56lr8wuy' target=\"_blank\">https://wandb.ai/alvinyang101-university-of-hawaii-at-manoa/training_together/sweeps/56lr8wuy</a>"
      ],
      "text/plain": [
       "<IPython.core.display.HTML object>"
      ]
     },
     "metadata": {},
     "output_type": "display_data"
    },
    {
     "data": {
      "text/html": [
       " View project at <a href='https://wandb.ai/alvinyang101-university-of-hawaii-at-manoa/training_together' target=\"_blank\">https://wandb.ai/alvinyang101-university-of-hawaii-at-manoa/training_together</a>"
      ],
      "text/plain": [
       "<IPython.core.display.HTML object>"
      ]
     },
     "metadata": {},
     "output_type": "display_data"
    },
    {
     "data": {
      "text/html": [
       " View sweep at <a href='https://wandb.ai/alvinyang101-university-of-hawaii-at-manoa/training_together/sweeps/56lr8wuy' target=\"_blank\">https://wandb.ai/alvinyang101-university-of-hawaii-at-manoa/training_together/sweeps/56lr8wuy</a>"
      ],
      "text/plain": [
       "<IPython.core.display.HTML object>"
      ]
     },
     "metadata": {},
     "output_type": "display_data"
    },
    {
     "data": {
      "text/html": [
       " View run at <a href='https://wandb.ai/alvinyang101-university-of-hawaii-at-manoa/training_together/runs/0h3as4z0' target=\"_blank\">https://wandb.ai/alvinyang101-university-of-hawaii-at-manoa/training_together/runs/0h3as4z0</a>"
      ],
      "text/plain": [
       "<IPython.core.display.HTML object>"
      ]
     },
     "metadata": {},
     "output_type": "display_data"
    },
    {
     "data": {
      "text/html": [],
      "text/plain": [
       "<IPython.core.display.HTML object>"
      ]
     },
     "metadata": {},
     "output_type": "display_data"
    },
    {
     "data": {
      "text/html": [
       "<br>    <style><br>        .wandb-row {<br>            display: flex;<br>            flex-direction: row;<br>            flex-wrap: wrap;<br>            justify-content: flex-start;<br>            width: 100%;<br>        }<br>        .wandb-col {<br>            display: flex;<br>            flex-direction: column;<br>            flex-basis: 100%;<br>            flex: 1;<br>            padding: 10px;<br>        }<br>    </style><br><div class=\"wandb-row\"><div class=\"wandb-col\"><h3>Run history:</h3><br/><table class=\"wandb\"><tr><td>Loss:</td><td>██▇▅▅▅▄▄▄▃▃▃▃▃▃▂▂▂▂▂▂▂▂▁▁▁▁▁▁▁▁▁▁▁▁▁▁▁▁▁</td></tr><tr><td>learning_rate</td><td>▁▁▁▁▁▁▁▁▁▁▁▁▁▁▁▁▁▁▁▁▁▁▁▁▁▁▁▁▁▁▁▁▁▁▁▁▁▁▁▁</td></tr></table><br/></div><div class=\"wandb-col\"><h3>Run summary:</h3><br/><table class=\"wandb\"><tr><td>Loss:</td><td>3.98904</td></tr><tr><td>learning_rate</td><td>1e-05</td></tr></table><br/></div></div>"
      ],
      "text/plain": [
       "<IPython.core.display.HTML object>"
      ]
     },
     "metadata": {},
     "output_type": "display_data"
    },
    {
     "data": {
      "text/html": [
       " View run <strong style=\"color:#cdcd00\">lr_1e-05</strong> at: <a href='https://wandb.ai/alvinyang101-university-of-hawaii-at-manoa/training_together/runs/0h3as4z0' target=\"_blank\">https://wandb.ai/alvinyang101-university-of-hawaii-at-manoa/training_together/runs/0h3as4z0</a><br> View project at: <a href='https://wandb.ai/alvinyang101-university-of-hawaii-at-manoa/training_together' target=\"_blank\">https://wandb.ai/alvinyang101-university-of-hawaii-at-manoa/training_together</a><br>Synced 5 W&B file(s), 0 media file(s), 0 artifact file(s) and 0 other file(s)"
      ],
      "text/plain": [
       "<IPython.core.display.HTML object>"
      ]
     },
     "metadata": {},
     "output_type": "display_data"
    },
    {
     "data": {
      "text/html": [
       "Find logs at: <code>./wandb/run-20250218_111141-0h3as4z0/logs</code>"
      ],
      "text/plain": [
       "<IPython.core.display.HTML object>"
      ]
     },
     "metadata": {},
     "output_type": "display_data"
    },
    {
     "name": "stderr",
     "output_type": "stream",
     "text": [
      "\u001b[34m\u001b[1mwandb\u001b[0m: Agent Starting Run: wjdmy8c0 with config:\n",
      "\u001b[34m\u001b[1mwandb\u001b[0m: \tlearning_rate: 0.0001\n"
     ]
    },
    {
     "data": {
      "text/html": [
       "Tracking run with wandb version 0.19.6"
      ],
      "text/plain": [
       "<IPython.core.display.HTML object>"
      ]
     },
     "metadata": {},
     "output_type": "display_data"
    },
    {
     "data": {
      "text/html": [
       "Run data is saved locally in <code>/home/alvin/homework/s2025-assignment1-basics/notebooks/wandb/run-20250218_112517-wjdmy8c0</code>"
      ],
      "text/plain": [
       "<IPython.core.display.HTML object>"
      ]
     },
     "metadata": {},
     "output_type": "display_data"
    },
    {
     "data": {
      "text/html": [
       "Syncing run <strong><a href='https://wandb.ai/alvinyang101-university-of-hawaii-at-manoa/training_together/runs/wjdmy8c0' target=\"_blank\">tough-sweep-2</a></strong> to <a href='https://wandb.ai/alvinyang101-university-of-hawaii-at-manoa/training_together' target=\"_blank\">Weights & Biases</a> (<a href='https://wandb.me/developer-guide' target=\"_blank\">docs</a>)<br>Sweep page: <a href='https://wandb.ai/alvinyang101-university-of-hawaii-at-manoa/training_together/sweeps/56lr8wuy' target=\"_blank\">https://wandb.ai/alvinyang101-university-of-hawaii-at-manoa/training_together/sweeps/56lr8wuy</a>"
      ],
      "text/plain": [
       "<IPython.core.display.HTML object>"
      ]
     },
     "metadata": {},
     "output_type": "display_data"
    },
    {
     "data": {
      "text/html": [
       " View project at <a href='https://wandb.ai/alvinyang101-university-of-hawaii-at-manoa/training_together' target=\"_blank\">https://wandb.ai/alvinyang101-university-of-hawaii-at-manoa/training_together</a>"
      ],
      "text/plain": [
       "<IPython.core.display.HTML object>"
      ]
     },
     "metadata": {},
     "output_type": "display_data"
    },
    {
     "data": {
      "text/html": [
       " View sweep at <a href='https://wandb.ai/alvinyang101-university-of-hawaii-at-manoa/training_together/sweeps/56lr8wuy' target=\"_blank\">https://wandb.ai/alvinyang101-university-of-hawaii-at-manoa/training_together/sweeps/56lr8wuy</a>"
      ],
      "text/plain": [
       "<IPython.core.display.HTML object>"
      ]
     },
     "metadata": {},
     "output_type": "display_data"
    },
    {
     "data": {
      "text/html": [
       " View run at <a href='https://wandb.ai/alvinyang101-university-of-hawaii-at-manoa/training_together/runs/wjdmy8c0' target=\"_blank\">https://wandb.ai/alvinyang101-university-of-hawaii-at-manoa/training_together/runs/wjdmy8c0</a>"
      ],
      "text/plain": [
       "<IPython.core.display.HTML object>"
      ]
     },
     "metadata": {},
     "output_type": "display_data"
    },
    {
     "data": {
      "text/html": [],
      "text/plain": [
       "<IPython.core.display.HTML object>"
      ]
     },
     "metadata": {},
     "output_type": "display_data"
    },
    {
     "data": {
      "text/html": [
       "<br>    <style><br>        .wandb-row {<br>            display: flex;<br>            flex-direction: row;<br>            flex-wrap: wrap;<br>            justify-content: flex-start;<br>            width: 100%;<br>        }<br>        .wandb-col {<br>            display: flex;<br>            flex-direction: column;<br>            flex-basis: 100%;<br>            flex: 1;<br>            padding: 10px;<br>        }<br>    </style><br><div class=\"wandb-row\"><div class=\"wandb-col\"><h3>Run history:</h3><br/><table class=\"wandb\"><tr><td>Loss:</td><td>█▆▆▄▄▄▄▃▃▃▃▃▃▃▃▃▃▂▂▂▂▂▂▂▂▂▁▂▁▁▂▁▁▁▁▁▁▁▁▁</td></tr><tr><td>learning_rate</td><td>▁▁▁▁▁▁▁▁▁▁▁▁▁▁▁▁▁▁▁▁▁▁▁▁▁▁▁▁▁▁▁▁▁▁▁▁▁▁▁▁</td></tr></table><br/></div><div class=\"wandb-col\"><h3>Run summary:</h3><br/><table class=\"wandb\"><tr><td>Loss:</td><td>2.7046</td></tr><tr><td>learning_rate</td><td>0.0001</td></tr></table><br/></div></div>"
      ],
      "text/plain": [
       "<IPython.core.display.HTML object>"
      ]
     },
     "metadata": {},
     "output_type": "display_data"
    },
    {
     "data": {
      "text/html": [
       " View run <strong style=\"color:#cdcd00\">lr_0.0001</strong> at: <a href='https://wandb.ai/alvinyang101-university-of-hawaii-at-manoa/training_together/runs/wjdmy8c0' target=\"_blank\">https://wandb.ai/alvinyang101-university-of-hawaii-at-manoa/training_together/runs/wjdmy8c0</a><br> View project at: <a href='https://wandb.ai/alvinyang101-university-of-hawaii-at-manoa/training_together' target=\"_blank\">https://wandb.ai/alvinyang101-university-of-hawaii-at-manoa/training_together</a><br>Synced 5 W&B file(s), 0 media file(s), 0 artifact file(s) and 0 other file(s)"
      ],
      "text/plain": [
       "<IPython.core.display.HTML object>"
      ]
     },
     "metadata": {},
     "output_type": "display_data"
    },
    {
     "data": {
      "text/html": [
       "Find logs at: <code>./wandb/run-20250218_112517-wjdmy8c0/logs</code>"
      ],
      "text/plain": [
       "<IPython.core.display.HTML object>"
      ]
     },
     "metadata": {},
     "output_type": "display_data"
    },
    {
     "name": "stderr",
     "output_type": "stream",
     "text": [
      "\u001b[34m\u001b[1mwandb\u001b[0m: Agent Starting Run: 3s0j1823 with config:\n",
      "\u001b[34m\u001b[1mwandb\u001b[0m: \tlearning_rate: 0.001\n"
     ]
    },
    {
     "data": {
      "text/html": [
       "Tracking run with wandb version 0.19.6"
      ],
      "text/plain": [
       "<IPython.core.display.HTML object>"
      ]
     },
     "metadata": {},
     "output_type": "display_data"
    },
    {
     "data": {
      "text/html": [
       "Run data is saved locally in <code>/home/alvin/homework/s2025-assignment1-basics/notebooks/wandb/run-20250218_113837-3s0j1823</code>"
      ],
      "text/plain": [
       "<IPython.core.display.HTML object>"
      ]
     },
     "metadata": {},
     "output_type": "display_data"
    },
    {
     "data": {
      "text/html": [
       "Syncing run <strong><a href='https://wandb.ai/alvinyang101-university-of-hawaii-at-manoa/training_together/runs/3s0j1823' target=\"_blank\">light-sweep-3</a></strong> to <a href='https://wandb.ai/alvinyang101-university-of-hawaii-at-manoa/training_together' target=\"_blank\">Weights & Biases</a> (<a href='https://wandb.me/developer-guide' target=\"_blank\">docs</a>)<br>Sweep page: <a href='https://wandb.ai/alvinyang101-university-of-hawaii-at-manoa/training_together/sweeps/56lr8wuy' target=\"_blank\">https://wandb.ai/alvinyang101-university-of-hawaii-at-manoa/training_together/sweeps/56lr8wuy</a>"
      ],
      "text/plain": [
       "<IPython.core.display.HTML object>"
      ]
     },
     "metadata": {},
     "output_type": "display_data"
    },
    {
     "data": {
      "text/html": [
       " View project at <a href='https://wandb.ai/alvinyang101-university-of-hawaii-at-manoa/training_together' target=\"_blank\">https://wandb.ai/alvinyang101-university-of-hawaii-at-manoa/training_together</a>"
      ],
      "text/plain": [
       "<IPython.core.display.HTML object>"
      ]
     },
     "metadata": {},
     "output_type": "display_data"
    },
    {
     "data": {
      "text/html": [
       " View sweep at <a href='https://wandb.ai/alvinyang101-university-of-hawaii-at-manoa/training_together/sweeps/56lr8wuy' target=\"_blank\">https://wandb.ai/alvinyang101-university-of-hawaii-at-manoa/training_together/sweeps/56lr8wuy</a>"
      ],
      "text/plain": [
       "<IPython.core.display.HTML object>"
      ]
     },
     "metadata": {},
     "output_type": "display_data"
    },
    {
     "data": {
      "text/html": [
       " View run at <a href='https://wandb.ai/alvinyang101-university-of-hawaii-at-manoa/training_together/runs/3s0j1823' target=\"_blank\">https://wandb.ai/alvinyang101-university-of-hawaii-at-manoa/training_together/runs/3s0j1823</a>"
      ],
      "text/plain": [
       "<IPython.core.display.HTML object>"
      ]
     },
     "metadata": {},
     "output_type": "display_data"
    },
    {
     "data": {
      "text/html": [],
      "text/plain": [
       "<IPython.core.display.HTML object>"
      ]
     },
     "metadata": {},
     "output_type": "display_data"
    },
    {
     "data": {
      "text/html": [
       "<br>    <style><br>        .wandb-row {<br>            display: flex;<br>            flex-direction: row;<br>            flex-wrap: wrap;<br>            justify-content: flex-start;<br>            width: 100%;<br>        }<br>        .wandb-col {<br>            display: flex;<br>            flex-direction: column;<br>            flex-basis: 100%;<br>            flex: 1;<br>            padding: 10px;<br>        }<br>    </style><br><div class=\"wandb-row\"><div class=\"wandb-col\"><h3>Run history:</h3><br/><table class=\"wandb\"><tr><td>Loss:</td><td>█▇▇▇▇▅▅▄▄▃▃▃▃▃▃▂▂▂▂▂▂▂▂▂▂▂▂▁▂▁▁▁▂▁▁▁▁▁▁▁</td></tr><tr><td>learning_rate</td><td>▁▁▁▁▁▁▁▁▁▁▁▁▁▁▁▁▁▁▁▁▁▁▁▁▁▁▁▁▁▁▁▁▁▁▁▁▁▁▁▁</td></tr></table><br/></div><div class=\"wandb-col\"><h3>Run summary:</h3><br/><table class=\"wandb\"><tr><td>Loss:</td><td>1.99614</td></tr><tr><td>learning_rate</td><td>0.001</td></tr></table><br/></div></div>"
      ],
      "text/plain": [
       "<IPython.core.display.HTML object>"
      ]
     },
     "metadata": {},
     "output_type": "display_data"
    },
    {
     "data": {
      "text/html": [
       " View run <strong style=\"color:#cdcd00\">lr_0.001</strong> at: <a href='https://wandb.ai/alvinyang101-university-of-hawaii-at-manoa/training_together/runs/3s0j1823' target=\"_blank\">https://wandb.ai/alvinyang101-university-of-hawaii-at-manoa/training_together/runs/3s0j1823</a><br> View project at: <a href='https://wandb.ai/alvinyang101-university-of-hawaii-at-manoa/training_together' target=\"_blank\">https://wandb.ai/alvinyang101-university-of-hawaii-at-manoa/training_together</a><br>Synced 5 W&B file(s), 0 media file(s), 0 artifact file(s) and 0 other file(s)"
      ],
      "text/plain": [
       "<IPython.core.display.HTML object>"
      ]
     },
     "metadata": {},
     "output_type": "display_data"
    },
    {
     "data": {
      "text/html": [
       "Find logs at: <code>./wandb/run-20250218_113837-3s0j1823/logs</code>"
      ],
      "text/plain": [
       "<IPython.core.display.HTML object>"
      ]
     },
     "metadata": {},
     "output_type": "display_data"
    },
    {
     "name": "stderr",
     "output_type": "stream",
     "text": [
      "\u001b[34m\u001b[1mwandb\u001b[0m: Agent Starting Run: qs8lytdy with config:\n",
      "\u001b[34m\u001b[1mwandb\u001b[0m: \tlearning_rate: 0.01\n"
     ]
    },
    {
     "data": {
      "text/html": [
       "Tracking run with wandb version 0.19.6"
      ],
      "text/plain": [
       "<IPython.core.display.HTML object>"
      ]
     },
     "metadata": {},
     "output_type": "display_data"
    },
    {
     "data": {
      "text/html": [
       "Run data is saved locally in <code>/home/alvin/homework/s2025-assignment1-basics/notebooks/wandb/run-20250218_115214-qs8lytdy</code>"
      ],
      "text/plain": [
       "<IPython.core.display.HTML object>"
      ]
     },
     "metadata": {},
     "output_type": "display_data"
    },
    {
     "data": {
      "text/html": [
       "Syncing run <strong><a href='https://wandb.ai/alvinyang101-university-of-hawaii-at-manoa/training_together/runs/qs8lytdy' target=\"_blank\">valiant-sweep-4</a></strong> to <a href='https://wandb.ai/alvinyang101-university-of-hawaii-at-manoa/training_together' target=\"_blank\">Weights & Biases</a> (<a href='https://wandb.me/developer-guide' target=\"_blank\">docs</a>)<br>Sweep page: <a href='https://wandb.ai/alvinyang101-university-of-hawaii-at-manoa/training_together/sweeps/56lr8wuy' target=\"_blank\">https://wandb.ai/alvinyang101-university-of-hawaii-at-manoa/training_together/sweeps/56lr8wuy</a>"
      ],
      "text/plain": [
       "<IPython.core.display.HTML object>"
      ]
     },
     "metadata": {},
     "output_type": "display_data"
    },
    {
     "data": {
      "text/html": [
       " View project at <a href='https://wandb.ai/alvinyang101-university-of-hawaii-at-manoa/training_together' target=\"_blank\">https://wandb.ai/alvinyang101-university-of-hawaii-at-manoa/training_together</a>"
      ],
      "text/plain": [
       "<IPython.core.display.HTML object>"
      ]
     },
     "metadata": {},
     "output_type": "display_data"
    },
    {
     "data": {
      "text/html": [
       " View sweep at <a href='https://wandb.ai/alvinyang101-university-of-hawaii-at-manoa/training_together/sweeps/56lr8wuy' target=\"_blank\">https://wandb.ai/alvinyang101-university-of-hawaii-at-manoa/training_together/sweeps/56lr8wuy</a>"
      ],
      "text/plain": [
       "<IPython.core.display.HTML object>"
      ]
     },
     "metadata": {},
     "output_type": "display_data"
    },
    {
     "data": {
      "text/html": [
       " View run at <a href='https://wandb.ai/alvinyang101-university-of-hawaii-at-manoa/training_together/runs/qs8lytdy' target=\"_blank\">https://wandb.ai/alvinyang101-university-of-hawaii-at-manoa/training_together/runs/qs8lytdy</a>"
      ],
      "text/plain": [
       "<IPython.core.display.HTML object>"
      ]
     },
     "metadata": {},
     "output_type": "display_data"
    },
    {
     "data": {
      "text/html": [],
      "text/plain": [
       "<IPython.core.display.HTML object>"
      ]
     },
     "metadata": {},
     "output_type": "display_data"
    },
    {
     "data": {
      "text/html": [
       "<br>    <style><br>        .wandb-row {<br>            display: flex;<br>            flex-direction: row;<br>            flex-wrap: wrap;<br>            justify-content: flex-start;<br>            width: 100%;<br>        }<br>        .wandb-col {<br>            display: flex;<br>            flex-direction: column;<br>            flex-basis: 100%;<br>            flex: 1;<br>            padding: 10px;<br>        }<br>    </style><br><div class=\"wandb-row\"><div class=\"wandb-col\"><h3>Run history:</h3><br/><table class=\"wandb\"><tr><td>Loss:</td><td>██▄▂▁▁▂▂▂▃▃▃▃▃▃▃▃▃▃▃▃▃▃▃▃▃▃▄▃▃▄▃▄▃▂▃▃▂▂▂</td></tr><tr><td>learning_rate</td><td>▁▁▁▁▁▁▁▁▁▁▁▁▁▁▁▁▁▁▁▁▁▁▁▁▁▁▁▁▁▁▁▁▁▁▁▁▁▁▁▁</td></tr></table><br/></div><div class=\"wandb-col\"><h3>Run summary:</h3><br/><table class=\"wandb\"><tr><td>Loss:</td><td>4.39612</td></tr><tr><td>learning_rate</td><td>0.01</td></tr></table><br/></div></div>"
      ],
      "text/plain": [
       "<IPython.core.display.HTML object>"
      ]
     },
     "metadata": {},
     "output_type": "display_data"
    },
    {
     "data": {
      "text/html": [
       " View run <strong style=\"color:#cdcd00\">lr_0.01</strong> at: <a href='https://wandb.ai/alvinyang101-university-of-hawaii-at-manoa/training_together/runs/qs8lytdy' target=\"_blank\">https://wandb.ai/alvinyang101-university-of-hawaii-at-manoa/training_together/runs/qs8lytdy</a><br> View project at: <a href='https://wandb.ai/alvinyang101-university-of-hawaii-at-manoa/training_together' target=\"_blank\">https://wandb.ai/alvinyang101-university-of-hawaii-at-manoa/training_together</a><br>Synced 5 W&B file(s), 0 media file(s), 0 artifact file(s) and 0 other file(s)"
      ],
      "text/plain": [
       "<IPython.core.display.HTML object>"
      ]
     },
     "metadata": {},
     "output_type": "display_data"
    },
    {
     "data": {
      "text/html": [
       "Find logs at: <code>./wandb/run-20250218_115214-qs8lytdy/logs</code>"
      ],
      "text/plain": [
       "<IPython.core.display.HTML object>"
      ]
     },
     "metadata": {},
     "output_type": "display_data"
    },
    {
     "name": "stderr",
     "output_type": "stream",
     "text": [
      "\u001b[34m\u001b[1mwandb\u001b[0m: Agent Starting Run: h1e29ozl with config:\n",
      "\u001b[34m\u001b[1mwandb\u001b[0m: \tlearning_rate: 0.1\n"
     ]
    },
    {
     "data": {
      "text/html": [
       "Tracking run with wandb version 0.19.6"
      ],
      "text/plain": [
       "<IPython.core.display.HTML object>"
      ]
     },
     "metadata": {},
     "output_type": "display_data"
    },
    {
     "data": {
      "text/html": [
       "Run data is saved locally in <code>/home/alvin/homework/s2025-assignment1-basics/notebooks/wandb/run-20250218_120605-h1e29ozl</code>"
      ],
      "text/plain": [
       "<IPython.core.display.HTML object>"
      ]
     },
     "metadata": {},
     "output_type": "display_data"
    },
    {
     "data": {
      "text/html": [
       "Syncing run <strong><a href='https://wandb.ai/alvinyang101-university-of-hawaii-at-manoa/training_together/runs/h1e29ozl' target=\"_blank\">dandy-sweep-5</a></strong> to <a href='https://wandb.ai/alvinyang101-university-of-hawaii-at-manoa/training_together' target=\"_blank\">Weights & Biases</a> (<a href='https://wandb.me/developer-guide' target=\"_blank\">docs</a>)<br>Sweep page: <a href='https://wandb.ai/alvinyang101-university-of-hawaii-at-manoa/training_together/sweeps/56lr8wuy' target=\"_blank\">https://wandb.ai/alvinyang101-university-of-hawaii-at-manoa/training_together/sweeps/56lr8wuy</a>"
      ],
      "text/plain": [
       "<IPython.core.display.HTML object>"
      ]
     },
     "metadata": {},
     "output_type": "display_data"
    },
    {
     "data": {
      "text/html": [
       " View project at <a href='https://wandb.ai/alvinyang101-university-of-hawaii-at-manoa/training_together' target=\"_blank\">https://wandb.ai/alvinyang101-university-of-hawaii-at-manoa/training_together</a>"
      ],
      "text/plain": [
       "<IPython.core.display.HTML object>"
      ]
     },
     "metadata": {},
     "output_type": "display_data"
    },
    {
     "data": {
      "text/html": [
       " View sweep at <a href='https://wandb.ai/alvinyang101-university-of-hawaii-at-manoa/training_together/sweeps/56lr8wuy' target=\"_blank\">https://wandb.ai/alvinyang101-university-of-hawaii-at-manoa/training_together/sweeps/56lr8wuy</a>"
      ],
      "text/plain": [
       "<IPython.core.display.HTML object>"
      ]
     },
     "metadata": {},
     "output_type": "display_data"
    },
    {
     "data": {
      "text/html": [
       " View run at <a href='https://wandb.ai/alvinyang101-university-of-hawaii-at-manoa/training_together/runs/h1e29ozl' target=\"_blank\">https://wandb.ai/alvinyang101-university-of-hawaii-at-manoa/training_together/runs/h1e29ozl</a>"
      ],
      "text/plain": [
       "<IPython.core.display.HTML object>"
      ]
     },
     "metadata": {},
     "output_type": "display_data"
    },
    {
     "data": {
      "text/html": [],
      "text/plain": [
       "<IPython.core.display.HTML object>"
      ]
     },
     "metadata": {},
     "output_type": "display_data"
    },
    {
     "data": {
      "text/html": [
       "<br>    <style><br>        .wandb-row {<br>            display: flex;<br>            flex-direction: row;<br>            flex-wrap: wrap;<br>            justify-content: flex-start;<br>            width: 100%;<br>        }<br>        .wandb-col {<br>            display: flex;<br>            flex-direction: column;<br>            flex-basis: 100%;<br>            flex: 1;<br>            padding: 10px;<br>        }<br>    </style><br><div class=\"wandb-row\"><div class=\"wandb-col\"><h3>Run history:</h3><br/><table class=\"wandb\"><tr><td>Loss:</td><td>█▂▁▁▁▁▁▁▁▁▁▁▁▁▁▁▁▁▁▁▁▁▁▁▁▁▁▁▁▁▁▁▁▁▁▁▁▁▁▁</td></tr><tr><td>learning_rate</td><td>▁▁▁▁▁▁▁▁▁▁▁▁▁▁▁▁▁▁▁▁▁▁▁▁▁▁▁▁▁▁▁▁▁▁▁▁▁▁▁▁</td></tr></table><br/></div><div class=\"wandb-col\"><h3>Run summary:</h3><br/><table class=\"wandb\"><tr><td>Loss:</td><td>5.38687</td></tr><tr><td>learning_rate</td><td>0.1</td></tr></table><br/></div></div>"
      ],
      "text/plain": [
       "<IPython.core.display.HTML object>"
      ]
     },
     "metadata": {},
     "output_type": "display_data"
    },
    {
     "data": {
      "text/html": [
       " View run <strong style=\"color:#cdcd00\">lr_0.1</strong> at: <a href='https://wandb.ai/alvinyang101-university-of-hawaii-at-manoa/training_together/runs/h1e29ozl' target=\"_blank\">https://wandb.ai/alvinyang101-university-of-hawaii-at-manoa/training_together/runs/h1e29ozl</a><br> View project at: <a href='https://wandb.ai/alvinyang101-university-of-hawaii-at-manoa/training_together' target=\"_blank\">https://wandb.ai/alvinyang101-university-of-hawaii-at-manoa/training_together</a><br>Synced 5 W&B file(s), 0 media file(s), 0 artifact file(s) and 0 other file(s)"
      ],
      "text/plain": [
       "<IPython.core.display.HTML object>"
      ]
     },
     "metadata": {},
     "output_type": "display_data"
    },
    {
     "data": {
      "text/html": [
       "Find logs at: <code>./wandb/run-20250218_120605-h1e29ozl/logs</code>"
      ],
      "text/plain": [
       "<IPython.core.display.HTML object>"
      ]
     },
     "metadata": {},
     "output_type": "display_data"
    },
    {
     "name": "stderr",
     "output_type": "stream",
     "text": [
      "\u001b[34m\u001b[1mwandb\u001b[0m: Agent Starting Run: dcbqiqgo with config:\n",
      "\u001b[34m\u001b[1mwandb\u001b[0m: \tlearning_rate: 1\n"
     ]
    },
    {
     "data": {
      "text/html": [
       "Tracking run with wandb version 0.19.6"
      ],
      "text/plain": [
       "<IPython.core.display.HTML object>"
      ]
     },
     "metadata": {},
     "output_type": "display_data"
    },
    {
     "data": {
      "text/html": [
       "Run data is saved locally in <code>/home/alvin/homework/s2025-assignment1-basics/notebooks/wandb/run-20250218_121950-dcbqiqgo</code>"
      ],
      "text/plain": [
       "<IPython.core.display.HTML object>"
      ]
     },
     "metadata": {},
     "output_type": "display_data"
    },
    {
     "data": {
      "text/html": [
       "Syncing run <strong><a href='https://wandb.ai/alvinyang101-university-of-hawaii-at-manoa/training_together/runs/dcbqiqgo' target=\"_blank\">morning-sweep-6</a></strong> to <a href='https://wandb.ai/alvinyang101-university-of-hawaii-at-manoa/training_together' target=\"_blank\">Weights & Biases</a> (<a href='https://wandb.me/developer-guide' target=\"_blank\">docs</a>)<br>Sweep page: <a href='https://wandb.ai/alvinyang101-university-of-hawaii-at-manoa/training_together/sweeps/56lr8wuy' target=\"_blank\">https://wandb.ai/alvinyang101-university-of-hawaii-at-manoa/training_together/sweeps/56lr8wuy</a>"
      ],
      "text/plain": [
       "<IPython.core.display.HTML object>"
      ]
     },
     "metadata": {},
     "output_type": "display_data"
    },
    {
     "data": {
      "text/html": [
       " View project at <a href='https://wandb.ai/alvinyang101-university-of-hawaii-at-manoa/training_together' target=\"_blank\">https://wandb.ai/alvinyang101-university-of-hawaii-at-manoa/training_together</a>"
      ],
      "text/plain": [
       "<IPython.core.display.HTML object>"
      ]
     },
     "metadata": {},
     "output_type": "display_data"
    },
    {
     "data": {
      "text/html": [
       " View sweep at <a href='https://wandb.ai/alvinyang101-university-of-hawaii-at-manoa/training_together/sweeps/56lr8wuy' target=\"_blank\">https://wandb.ai/alvinyang101-university-of-hawaii-at-manoa/training_together/sweeps/56lr8wuy</a>"
      ],
      "text/plain": [
       "<IPython.core.display.HTML object>"
      ]
     },
     "metadata": {},
     "output_type": "display_data"
    },
    {
     "data": {
      "text/html": [
       " View run at <a href='https://wandb.ai/alvinyang101-university-of-hawaii-at-manoa/training_together/runs/dcbqiqgo' target=\"_blank\">https://wandb.ai/alvinyang101-university-of-hawaii-at-manoa/training_together/runs/dcbqiqgo</a>"
      ],
      "text/plain": [
       "<IPython.core.display.HTML object>"
      ]
     },
     "metadata": {},
     "output_type": "display_data"
    },
    {
     "data": {
      "text/html": [],
      "text/plain": [
       "<IPython.core.display.HTML object>"
      ]
     },
     "metadata": {},
     "output_type": "display_data"
    },
    {
     "data": {
      "text/html": [
       "<br>    <style><br>        .wandb-row {<br>            display: flex;<br>            flex-direction: row;<br>            flex-wrap: wrap;<br>            justify-content: flex-start;<br>            width: 100%;<br>        }<br>        .wandb-col {<br>            display: flex;<br>            flex-direction: column;<br>            flex-basis: 100%;<br>            flex: 1;<br>            padding: 10px;<br>        }<br>    </style><br><div class=\"wandb-row\"><div class=\"wandb-col\"><h3>Run history:</h3><br/><table class=\"wandb\"><tr><td>Loss:</td><td>█▄▂▂▁▁▁▂▂▃▃▂▂▃▂▃▂▂▂▂▃▂▂▂▃▂▃▁▃▃▄▃▁▂▂▃▂▁▂▃</td></tr><tr><td>learning_rate</td><td>▁▁▁▁▁▁▁▁▁▁▁▁▁▁▁▁▁▁▁▁▁▁▁▁▁▁▁▁▁▁▁▁▁▁▁▁▁▁▁▁</td></tr></table><br/></div><div class=\"wandb-col\"><h3>Run summary:</h3><br/><table class=\"wandb\"><tr><td>Loss:</td><td>79.12352</td></tr><tr><td>learning_rate</td><td>1</td></tr></table><br/></div></div>"
      ],
      "text/plain": [
       "<IPython.core.display.HTML object>"
      ]
     },
     "metadata": {},
     "output_type": "display_data"
    },
    {
     "data": {
      "text/html": [
       " View run <strong style=\"color:#cdcd00\">lr_1</strong> at: <a href='https://wandb.ai/alvinyang101-university-of-hawaii-at-manoa/training_together/runs/dcbqiqgo' target=\"_blank\">https://wandb.ai/alvinyang101-university-of-hawaii-at-manoa/training_together/runs/dcbqiqgo</a><br> View project at: <a href='https://wandb.ai/alvinyang101-university-of-hawaii-at-manoa/training_together' target=\"_blank\">https://wandb.ai/alvinyang101-university-of-hawaii-at-manoa/training_together</a><br>Synced 5 W&B file(s), 0 media file(s), 0 artifact file(s) and 0 other file(s)"
      ],
      "text/plain": [
       "<IPython.core.display.HTML object>"
      ]
     },
     "metadata": {},
     "output_type": "display_data"
    },
    {
     "data": {
      "text/html": [
       "Find logs at: <code>./wandb/run-20250218_121950-dcbqiqgo/logs</code>"
      ],
      "text/plain": [
       "<IPython.core.display.HTML object>"
      ]
     },
     "metadata": {},
     "output_type": "display_data"
    },
    {
     "name": "stderr",
     "output_type": "stream",
     "text": [
      "\u001b[34m\u001b[1mwandb\u001b[0m: Agent Starting Run: zv98whss with config:\n",
      "\u001b[34m\u001b[1mwandb\u001b[0m: \tlearning_rate: 10\n"
     ]
    },
    {
     "data": {
      "text/html": [
       "Tracking run with wandb version 0.19.6"
      ],
      "text/plain": [
       "<IPython.core.display.HTML object>"
      ]
     },
     "metadata": {},
     "output_type": "display_data"
    },
    {
     "data": {
      "text/html": [
       "Run data is saved locally in <code>/home/alvin/homework/s2025-assignment1-basics/notebooks/wandb/run-20250218_123249-zv98whss</code>"
      ],
      "text/plain": [
       "<IPython.core.display.HTML object>"
      ]
     },
     "metadata": {},
     "output_type": "display_data"
    },
    {
     "data": {
      "text/html": [
       "Syncing run <strong><a href='https://wandb.ai/alvinyang101-university-of-hawaii-at-manoa/training_together/runs/zv98whss' target=\"_blank\">lively-sweep-7</a></strong> to <a href='https://wandb.ai/alvinyang101-university-of-hawaii-at-manoa/training_together' target=\"_blank\">Weights & Biases</a> (<a href='https://wandb.me/developer-guide' target=\"_blank\">docs</a>)<br>Sweep page: <a href='https://wandb.ai/alvinyang101-university-of-hawaii-at-manoa/training_together/sweeps/56lr8wuy' target=\"_blank\">https://wandb.ai/alvinyang101-university-of-hawaii-at-manoa/training_together/sweeps/56lr8wuy</a>"
      ],
      "text/plain": [
       "<IPython.core.display.HTML object>"
      ]
     },
     "metadata": {},
     "output_type": "display_data"
    },
    {
     "data": {
      "text/html": [
       " View project at <a href='https://wandb.ai/alvinyang101-university-of-hawaii-at-manoa/training_together' target=\"_blank\">https://wandb.ai/alvinyang101-university-of-hawaii-at-manoa/training_together</a>"
      ],
      "text/plain": [
       "<IPython.core.display.HTML object>"
      ]
     },
     "metadata": {},
     "output_type": "display_data"
    },
    {
     "data": {
      "text/html": [
       " View sweep at <a href='https://wandb.ai/alvinyang101-university-of-hawaii-at-manoa/training_together/sweeps/56lr8wuy' target=\"_blank\">https://wandb.ai/alvinyang101-university-of-hawaii-at-manoa/training_together/sweeps/56lr8wuy</a>"
      ],
      "text/plain": [
       "<IPython.core.display.HTML object>"
      ]
     },
     "metadata": {},
     "output_type": "display_data"
    },
    {
     "data": {
      "text/html": [
       " View run at <a href='https://wandb.ai/alvinyang101-university-of-hawaii-at-manoa/training_together/runs/zv98whss' target=\"_blank\">https://wandb.ai/alvinyang101-university-of-hawaii-at-manoa/training_together/runs/zv98whss</a>"
      ],
      "text/plain": [
       "<IPython.core.display.HTML object>"
      ]
     },
     "metadata": {},
     "output_type": "display_data"
    },
    {
     "data": {
      "text/html": [],
      "text/plain": [
       "<IPython.core.display.HTML object>"
      ]
     },
     "metadata": {},
     "output_type": "display_data"
    },
    {
     "data": {
      "text/html": [
       "<br>    <style><br>        .wandb-row {<br>            display: flex;<br>            flex-direction: row;<br>            flex-wrap: wrap;<br>            justify-content: flex-start;<br>            width: 100%;<br>        }<br>        .wandb-col {<br>            display: flex;<br>            flex-direction: column;<br>            flex-basis: 100%;<br>            flex: 1;<br>            padding: 10px;<br>        }<br>    </style><br><div class=\"wandb-row\"><div class=\"wandb-col\"><h3>Run history:</h3><br/><table class=\"wandb\"><tr><td>Loss:</td><td>▃▁▁▃▁▃▃▃▂▄▄▃▄▂▆▁▃▃▄▃▃▃▃▂▃▄▂▃▄▃▅▄▁█▃▄▃▆▃▃</td></tr><tr><td>learning_rate</td><td>▁▁▁▁▁▁▁▁▁▁▁▁▁▁▁▁▁▁▁▁▁▁▁▁▁▁▁▁▁▁▁▁▁▁▁▁▁▁▁▁</td></tr></table><br/></div><div class=\"wandb-col\"><h3>Run summary:</h3><br/><table class=\"wandb\"><tr><td>Loss:</td><td>22320.82227</td></tr><tr><td>learning_rate</td><td>10</td></tr></table><br/></div></div>"
      ],
      "text/plain": [
       "<IPython.core.display.HTML object>"
      ]
     },
     "metadata": {},
     "output_type": "display_data"
    },
    {
     "data": {
      "text/html": [
       " View run <strong style=\"color:#cdcd00\">lr_10</strong> at: <a href='https://wandb.ai/alvinyang101-university-of-hawaii-at-manoa/training_together/runs/zv98whss' target=\"_blank\">https://wandb.ai/alvinyang101-university-of-hawaii-at-manoa/training_together/runs/zv98whss</a><br> View project at: <a href='https://wandb.ai/alvinyang101-university-of-hawaii-at-manoa/training_together' target=\"_blank\">https://wandb.ai/alvinyang101-university-of-hawaii-at-manoa/training_together</a><br>Synced 5 W&B file(s), 0 media file(s), 0 artifact file(s) and 0 other file(s)"
      ],
      "text/plain": [
       "<IPython.core.display.HTML object>"
      ]
     },
     "metadata": {},
     "output_type": "display_data"
    },
    {
     "data": {
      "text/html": [
       "Find logs at: <code>./wandb/run-20250218_123249-zv98whss/logs</code>"
      ],
      "text/plain": [
       "<IPython.core.display.HTML object>"
      ]
     },
     "metadata": {},
     "output_type": "display_data"
    },
    {
     "name": "stderr",
     "output_type": "stream",
     "text": [
      "\u001b[34m\u001b[1mwandb\u001b[0m: Agent Starting Run: xfqyn2qv with config:\n",
      "\u001b[34m\u001b[1mwandb\u001b[0m: \tlearning_rate: 100\n"
     ]
    },
    {
     "data": {
      "text/html": [
       "Tracking run with wandb version 0.19.6"
      ],
      "text/plain": [
       "<IPython.core.display.HTML object>"
      ]
     },
     "metadata": {},
     "output_type": "display_data"
    },
    {
     "data": {
      "text/html": [
       "Run data is saved locally in <code>/home/alvin/homework/s2025-assignment1-basics/notebooks/wandb/run-20250218_124542-xfqyn2qv</code>"
      ],
      "text/plain": [
       "<IPython.core.display.HTML object>"
      ]
     },
     "metadata": {},
     "output_type": "display_data"
    },
    {
     "data": {
      "text/html": [
       "Syncing run <strong><a href='https://wandb.ai/alvinyang101-university-of-hawaii-at-manoa/training_together/runs/xfqyn2qv' target=\"_blank\">zesty-sweep-8</a></strong> to <a href='https://wandb.ai/alvinyang101-university-of-hawaii-at-manoa/training_together' target=\"_blank\">Weights & Biases</a> (<a href='https://wandb.me/developer-guide' target=\"_blank\">docs</a>)<br>Sweep page: <a href='https://wandb.ai/alvinyang101-university-of-hawaii-at-manoa/training_together/sweeps/56lr8wuy' target=\"_blank\">https://wandb.ai/alvinyang101-university-of-hawaii-at-manoa/training_together/sweeps/56lr8wuy</a>"
      ],
      "text/plain": [
       "<IPython.core.display.HTML object>"
      ]
     },
     "metadata": {},
     "output_type": "display_data"
    },
    {
     "data": {
      "text/html": [
       " View project at <a href='https://wandb.ai/alvinyang101-university-of-hawaii-at-manoa/training_together' target=\"_blank\">https://wandb.ai/alvinyang101-university-of-hawaii-at-manoa/training_together</a>"
      ],
      "text/plain": [
       "<IPython.core.display.HTML object>"
      ]
     },
     "metadata": {},
     "output_type": "display_data"
    },
    {
     "data": {
      "text/html": [
       " View sweep at <a href='https://wandb.ai/alvinyang101-university-of-hawaii-at-manoa/training_together/sweeps/56lr8wuy' target=\"_blank\">https://wandb.ai/alvinyang101-university-of-hawaii-at-manoa/training_together/sweeps/56lr8wuy</a>"
      ],
      "text/plain": [
       "<IPython.core.display.HTML object>"
      ]
     },
     "metadata": {},
     "output_type": "display_data"
    },
    {
     "data": {
      "text/html": [
       " View run at <a href='https://wandb.ai/alvinyang101-university-of-hawaii-at-manoa/training_together/runs/xfqyn2qv' target=\"_blank\">https://wandb.ai/alvinyang101-university-of-hawaii-at-manoa/training_together/runs/xfqyn2qv</a>"
      ],
      "text/plain": [
       "<IPython.core.display.HTML object>"
      ]
     },
     "metadata": {},
     "output_type": "display_data"
    },
    {
     "data": {
      "text/html": [],
      "text/plain": [
       "<IPython.core.display.HTML object>"
      ]
     },
     "metadata": {},
     "output_type": "display_data"
    },
    {
     "data": {
      "text/html": [
       "<br>    <style><br>        .wandb-row {<br>            display: flex;<br>            flex-direction: row;<br>            flex-wrap: wrap;<br>            justify-content: flex-start;<br>            width: 100%;<br>        }<br>        .wandb-col {<br>            display: flex;<br>            flex-direction: column;<br>            flex-basis: 100%;<br>            flex: 1;<br>            padding: 10px;<br>        }<br>    </style><br><div class=\"wandb-row\"><div class=\"wandb-col\"><h3>Run history:</h3><br/><table class=\"wandb\"><tr><td>Loss:</td><td>▁▁▁▁▁▁▁▁▁▁▁▁▁▁▁▁▁▁▁▁▁▁▁▁▁▁▁▁▁▁▁▁▁▁▁▁▁▁▁▁</td></tr><tr><td>learning_rate</td><td>▁▁▁▁▁▁▁▁▁▁▁▁▁▁▁▁▁▁▁▁▁▁▁▁▁▁▁▁▁▁▁▁▁▁▁▁▁▁▁▁</td></tr></table><br/></div><div class=\"wandb-col\"><h3>Run summary:</h3><br/><table class=\"wandb\"><tr><td>Loss:</td><td>9.21034</td></tr><tr><td>learning_rate</td><td>100</td></tr></table><br/></div></div>"
      ],
      "text/plain": [
       "<IPython.core.display.HTML object>"
      ]
     },
     "metadata": {},
     "output_type": "display_data"
    },
    {
     "data": {
      "text/html": [
       " View run <strong style=\"color:#cdcd00\">lr_100</strong> at: <a href='https://wandb.ai/alvinyang101-university-of-hawaii-at-manoa/training_together/runs/xfqyn2qv' target=\"_blank\">https://wandb.ai/alvinyang101-university-of-hawaii-at-manoa/training_together/runs/xfqyn2qv</a><br> View project at: <a href='https://wandb.ai/alvinyang101-university-of-hawaii-at-manoa/training_together' target=\"_blank\">https://wandb.ai/alvinyang101-university-of-hawaii-at-manoa/training_together</a><br>Synced 5 W&B file(s), 0 media file(s), 0 artifact file(s) and 0 other file(s)"
      ],
      "text/plain": [
       "<IPython.core.display.HTML object>"
      ]
     },
     "metadata": {},
     "output_type": "display_data"
    },
    {
     "data": {
      "text/html": [
       "Find logs at: <code>./wandb/run-20250218_124542-xfqyn2qv/logs</code>"
      ],
      "text/plain": [
       "<IPython.core.display.HTML object>"
      ]
     },
     "metadata": {},
     "output_type": "display_data"
    },
    {
     "name": "stderr",
     "output_type": "stream",
     "text": [
      "\u001b[34m\u001b[1mwandb\u001b[0m: Agent Starting Run: trvmohmg with config:\n",
      "\u001b[34m\u001b[1mwandb\u001b[0m: \tlearning_rate: 1000\n"
     ]
    },
    {
     "data": {
      "text/html": [
       "Tracking run with wandb version 0.19.6"
      ],
      "text/plain": [
       "<IPython.core.display.HTML object>"
      ]
     },
     "metadata": {},
     "output_type": "display_data"
    },
    {
     "data": {
      "text/html": [
       "Run data is saved locally in <code>/home/alvin/homework/s2025-assignment1-basics/notebooks/wandb/run-20250218_125820-trvmohmg</code>"
      ],
      "text/plain": [
       "<IPython.core.display.HTML object>"
      ]
     },
     "metadata": {},
     "output_type": "display_data"
    },
    {
     "data": {
      "text/html": [
       "Syncing run <strong><a href='https://wandb.ai/alvinyang101-university-of-hawaii-at-manoa/training_together/runs/trvmohmg' target=\"_blank\">restful-sweep-9</a></strong> to <a href='https://wandb.ai/alvinyang101-university-of-hawaii-at-manoa/training_together' target=\"_blank\">Weights & Biases</a> (<a href='https://wandb.me/developer-guide' target=\"_blank\">docs</a>)<br>Sweep page: <a href='https://wandb.ai/alvinyang101-university-of-hawaii-at-manoa/training_together/sweeps/56lr8wuy' target=\"_blank\">https://wandb.ai/alvinyang101-university-of-hawaii-at-manoa/training_together/sweeps/56lr8wuy</a>"
      ],
      "text/plain": [
       "<IPython.core.display.HTML object>"
      ]
     },
     "metadata": {},
     "output_type": "display_data"
    },
    {
     "data": {
      "text/html": [
       " View project at <a href='https://wandb.ai/alvinyang101-university-of-hawaii-at-manoa/training_together' target=\"_blank\">https://wandb.ai/alvinyang101-university-of-hawaii-at-manoa/training_together</a>"
      ],
      "text/plain": [
       "<IPython.core.display.HTML object>"
      ]
     },
     "metadata": {},
     "output_type": "display_data"
    },
    {
     "data": {
      "text/html": [
       " View sweep at <a href='https://wandb.ai/alvinyang101-university-of-hawaii-at-manoa/training_together/sweeps/56lr8wuy' target=\"_blank\">https://wandb.ai/alvinyang101-university-of-hawaii-at-manoa/training_together/sweeps/56lr8wuy</a>"
      ],
      "text/plain": [
       "<IPython.core.display.HTML object>"
      ]
     },
     "metadata": {},
     "output_type": "display_data"
    },
    {
     "data": {
      "text/html": [
       " View run at <a href='https://wandb.ai/alvinyang101-university-of-hawaii-at-manoa/training_together/runs/trvmohmg' target=\"_blank\">https://wandb.ai/alvinyang101-university-of-hawaii-at-manoa/training_together/runs/trvmohmg</a>"
      ],
      "text/plain": [
       "<IPython.core.display.HTML object>"
      ]
     },
     "metadata": {},
     "output_type": "display_data"
    },
    {
     "data": {
      "text/html": [],
      "text/plain": [
       "<IPython.core.display.HTML object>"
      ]
     },
     "metadata": {},
     "output_type": "display_data"
    },
    {
     "data": {
      "text/html": [
       "<br>    <style><br>        .wandb-row {<br>            display: flex;<br>            flex-direction: row;<br>            flex-wrap: wrap;<br>            justify-content: flex-start;<br>            width: 100%;<br>        }<br>        .wandb-col {<br>            display: flex;<br>            flex-direction: column;<br>            flex-basis: 100%;<br>            flex: 1;<br>            padding: 10px;<br>        }<br>    </style><br><div class=\"wandb-row\"><div class=\"wandb-col\"><h3>Run history:</h3><br/><table class=\"wandb\"><tr><td>Loss:</td><td>▁                                       </td></tr><tr><td>learning_rate</td><td>▁▁▁▁▁▁▁▁▁▁▁▁▁▁▁▁▁▁▁▁▁▁▁▁▁▁▁▁▁▁▁▁▁▁▁▁▁▁▁▁</td></tr></table><br/></div><div class=\"wandb-col\"><h3>Run summary:</h3><br/><table class=\"wandb\"><tr><td>Loss:</td><td>nan</td></tr><tr><td>learning_rate</td><td>1000</td></tr></table><br/></div></div>"
      ],
      "text/plain": [
       "<IPython.core.display.HTML object>"
      ]
     },
     "metadata": {},
     "output_type": "display_data"
    },
    {
     "data": {
      "text/html": [
       " View run <strong style=\"color:#cdcd00\">lr_1000</strong> at: <a href='https://wandb.ai/alvinyang101-university-of-hawaii-at-manoa/training_together/runs/trvmohmg' target=\"_blank\">https://wandb.ai/alvinyang101-university-of-hawaii-at-manoa/training_together/runs/trvmohmg</a><br> View project at: <a href='https://wandb.ai/alvinyang101-university-of-hawaii-at-manoa/training_together' target=\"_blank\">https://wandb.ai/alvinyang101-university-of-hawaii-at-manoa/training_together</a><br>Synced 5 W&B file(s), 0 media file(s), 0 artifact file(s) and 0 other file(s)"
      ],
      "text/plain": [
       "<IPython.core.display.HTML object>"
      ]
     },
     "metadata": {},
     "output_type": "display_data"
    },
    {
     "data": {
      "text/html": [
       "Find logs at: <code>./wandb/run-20250218_125820-trvmohmg/logs</code>"
      ],
      "text/plain": [
       "<IPython.core.display.HTML object>"
      ]
     },
     "metadata": {},
     "output_type": "display_data"
    }
   ],
   "source": [
    "num_combinations = np.prod([len(v[\"values\"]) for v in sweep_config[\"parameters\"].values()])\n",
    "wandb.agent(sweep_id, function=partial(train, config), count=int(num_combinations))"
   ]
  }
 ],
 "metadata": {
  "kernelspec": {
   "display_name": "ece496b_basics",
   "language": "python",
   "name": "python3"
  },
  "language_info": {
   "codemirror_mode": {
    "name": "ipython",
    "version": 3
   },
   "file_extension": ".py",
   "mimetype": "text/x-python",
   "name": "python",
   "nbconvert_exporter": "python",
   "pygments_lexer": "ipython3",
   "version": "3.10.16"
  }
 },
 "nbformat": 4,
 "nbformat_minor": 4
}
