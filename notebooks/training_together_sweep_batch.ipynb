{
 "cells": [
  {
   "cell_type": "markdown",
   "metadata": {},
   "source": [
    "# Training Together "
   ]
  },
  {
   "cell_type": "code",
   "execution_count": null,
   "metadata": {},
   "outputs": [],
   "source": [
    "%load_ext autoreload\n",
    "%autoreload 2\n",
    "from functools import partial\n",
    "from pathlib import Path\n",
    "import pickle\n",
    "\n",
    "import torch\n",
    "import torch.nn as nn\n",
    "import torch.optim as optim\n",
    "import numpy as np\n",
    "import wandb\n",
    "import os\n",
    "\n",
    "from ece496b_basics.adapters import *\n",
    "from ece496b_basics.model import CustomModule\n",
    "\n",
    "DATA_PATH = Path(\"../data\").resolve()\n",
    "OUTPUT_PATH = Path(\"outputs\").resolve()\n",
    "ts_tokenized_path = OUTPUT_PATH / \"tinystories_encoded.npy\"\n",
    "\n",
    "device = \"cuda\""
   ]
  },
  {
   "cell_type": "markdown",
   "metadata": {},
   "source": [
    "### Parameter Sweep"
   ]
  },
  {
   "cell_type": "code",
   "execution_count": null,
   "metadata": {},
   "outputs": [],
   "source": [
    "# Initialize Weights & Biases\n",
    "config = {\n",
    "    \"vocab_size\": 10_000,\n",
    "    \"context_length\": 128,\n",
    "    \"d_model\": 512,\n",
    "    \"num_layers\": 4,\n",
    "    \"num_heads\": 16,\n",
    "    \"d_ff\": 2048,\n",
    "    \"attn_pdrop\": 0.1,\n",
    "    \"residual_pdrop\": 0.1,\n",
    "    \"num_steps\":  2500,\n",
    "    \"epochs\": 1,\n",
    "    \"epochs_per_checkpoint\": 1,\n",
    "    \"learning_rate\": 0.001,\n",
    "}\n",
    "sweep_config = {\n",
    "    \"method\": \"grid\",\n",
    "    \"parameters\": {\n",
    "        \"batch_size\": {\n",
    "            \"values\": [32, 64, 128, 192]\n",
    "        },\n",
    "    }\n",
    "}\n",
    "sweep_id = wandb.sweep(sweep_config, project=\"training_together\")"
   ]
  },
  {
   "cell_type": "markdown",
   "metadata": {},
   "source": [
    "### Sweep Batch Size"
   ]
  },
  {
   "cell_type": "code",
   "execution_count": null,
   "metadata": {},
   "outputs": [],
   "source": [
    "# Training Loop\n",
    "def train(config):\n",
    "    run = wandb.init(config=config)\n",
    "    config = wandb.config\n",
    "    run.name = f\"batch_size_{config.batch_size}\"\n",
    "    dataset = np.load(ts_tokenized_path, mmap_mode=\"r\")\n",
    "    model = CustomModule(\n",
    "        vocab_size=config.vocab_size,\n",
    "        context_length=config.context_length,\n",
    "        d_model=config.d_model,\n",
    "        num_layers=config.num_layers,\n",
    "        num_heads=config.num_heads,\n",
    "        d_ff=config.d_ff,\n",
    "        device=device,\n",
    "    )\n",
    "    optimizer = get_adamw_cls()(model.parameters(), lr=config.learning_rate)\n",
    "    # scheduler = torch.optim.lr_scheduler.LambdaLR(\n",
    "    # optimizer, lr_lambda=lambda it: run_get_lr_cosine_schedule(\n",
    "    #     it, learning_rate, learning_rate * 0.1, 1000, 10000)\n",
    "    # )\n",
    "    total_loss = 0\n",
    "    for step in range(config.num_steps):\n",
    "        # Get batch\n",
    "        inputs, targets = run_get_batch(dataset, config.batch_size, config.context_length, device)\n",
    "        # Forward pass\n",
    "        outputs = model(inputs)\n",
    "        \n",
    "        # Compute loss\n",
    "        loss = run_cross_entropy(outputs.view(-1, config.vocab_size), targets.view(-1))\n",
    "        # Backpropagation\n",
    "        optimizer.zero_grad()\n",
    "        loss.backward()\n",
    "        run_gradient_clipping(model.parameters(), 1.0)\n",
    "        optimizer.step()\n",
    "\n",
    "        total_loss += loss.item()\n",
    "\n",
    "        # Log to wandb\n",
    "        wandb.log({f\"Loss:\": loss.item(), \"batch_size\": config.batch_size})\n",
    "\n",
    "    # Finish wandb run\n",
    "    wandb.finish()"
   ]
  },
  {
   "cell_type": "code",
   "execution_count": null,
   "metadata": {},
   "outputs": [],
   "source": [
    "num_combinations = np.prod([len(v[\"values\"]) for v in sweep_config[\"parameters\"].values()])\n",
    "wandb.agent(sweep_id, function=partial(train, config), count=int(num_combinations))"
   ]
  }
 ],
 "metadata": {
  "kernelspec": {
   "display_name": "ece496b_basics",
   "language": "python",
   "name": "python3"
  },
  "language_info": {
   "codemirror_mode": {
    "name": "ipython",
    "version": 3
   },
   "file_extension": ".py",
   "mimetype": "text/x-python",
   "name": "python",
   "nbconvert_exporter": "python",
   "pygments_lexer": "ipython3",
   "version": "3.10.16"
  }
 },
 "nbformat": 4,
 "nbformat_minor": 4
}
